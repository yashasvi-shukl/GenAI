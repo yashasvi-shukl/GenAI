{
  "nbformat": 4,
  "nbformat_minor": 0,
  "metadata": {
    "colab": {
      "provenance": []
    },
    "kernelspec": {
      "name": "python3",
      "display_name": "Python 3"
    },
    "language_info": {
      "name": "python"
    }
  },
  "cells": [
    {
      "cell_type": "markdown",
      "source": [
        "# Key Points:\n",
        "\n",
        "1. In this notebook I will create a RAG system\n",
        "2. We'll be using Chroma DB\n",
        "3. We'll store db on local and reload without re-processing the documents"
      ],
      "metadata": {
        "id": "zjcci_UZy32g"
      }
    },
    {
      "cell_type": "code",
      "execution_count": 27,
      "metadata": {
        "id": "hrG6vJLESnrh"
      },
      "outputs": [],
      "source": [
        "!pip -q install langchain openai tiktoken chromadb"
      ]
    },
    {
      "cell_type": "code",
      "source": [
        "!pip show langchain"
      ],
      "metadata": {
        "id": "cEY-O9yuS0ud",
        "colab": {
          "base_uri": "https://localhost:8080/"
        },
        "outputId": "fbe6af9b-007b-4bcb-d7ca-7a415f0df942"
      },
      "execution_count": 28,
      "outputs": [
        {
          "output_type": "stream",
          "name": "stdout",
          "text": [
            "Name: langchain\n",
            "Version: 0.0.340\n",
            "Summary: Building applications with LLMs through composability\n",
            "Home-page: https://github.com/langchain-ai/langchain\n",
            "Author: \n",
            "Author-email: \n",
            "License: MIT\n",
            "Location: /usr/local/lib/python3.10/dist-packages\n",
            "Requires: aiohttp, anyio, async-timeout, dataclasses-json, jsonpatch, langsmith, numpy, pydantic, PyYAML, requests, SQLAlchemy, tenacity\n",
            "Required-by: \n"
          ]
        }
      ]
    },
    {
      "cell_type": "code",
      "source": [
        "!wget -q https://www.dropbox.com/s/vs6ocyvpzzncvwh/new_articles.zip\n",
        "!unzip -q new_articles.zip -d new_articles"
      ],
      "metadata": {
        "colab": {
          "base_uri": "https://localhost:8080/"
        },
        "id": "zmGv9UUPTEVI",
        "outputId": "76bf823d-aa4f-4b9c-c4ce-ae080400e720"
      },
      "execution_count": 29,
      "outputs": [
        {
          "output_type": "stream",
          "name": "stdout",
          "text": [
            "replace new_articles/05-07-fintech-space-continues-to-be-competitive-and-drama-filled.txt? [y]es, [n]o, [A]ll, [N]one, [r]ename: "
          ]
        }
      ]
    },
    {
      "cell_type": "code",
      "source": [
        "import os\n",
        "import getpass\n",
        "os.environ['OPENAI_API_KEY'] = getpass.getpass()   # OPENAI api key"
      ],
      "metadata": {
        "id": "BXTHgSVATeCO",
        "colab": {
          "base_uri": "https://localhost:8080/"
        },
        "outputId": "6ccb6ac6-ed51-430d-c36d-b263807c86c0"
      },
      "execution_count": 1,
      "outputs": [
        {
          "name": "stdout",
          "output_type": "stream",
          "text": [
            "··········\n"
          ]
        }
      ]
    },
    {
      "cell_type": "code",
      "source": [
        "from langchain import OpenAI\n",
        "from langchain.vectorstores import Chroma\n",
        "from langchain.embeddings import OpenAIEmbeddings\n",
        "from langchain.text_splitter import RecursiveCharacterTextSplitter\n",
        "from langchain.chains import RetrievalQA\n",
        "from langchain.document_loaders import TextLoader, DirectoryLoader\n"
      ],
      "metadata": {
        "id": "7LUK6AhMT7zr"
      },
      "execution_count": 2,
      "outputs": []
    },
    {
      "cell_type": "markdown",
      "source": [
        "## Load and process multiple documents"
      ],
      "metadata": {
        "id": "T2e4ZX6Alp8Y"
      }
    },
    {
      "cell_type": "code",
      "source": [
        "# loader = TextLoader(\"single_text_file.txt\")\n",
        "loader = DirectoryLoader(path=\"/content/new_articles\", glob = \"./*.txt\", loader_cls=TextLoader)\n",
        "documents = loader.load()"
      ],
      "metadata": {
        "id": "P2_RL4wDluMu"
      },
      "execution_count": 3,
      "outputs": []
    },
    {
      "cell_type": "code",
      "source": [
        "# Splitting the text into text chunks\n",
        "text_splitter = RecursiveCharacterTextSplitter(chunk_size = 1000, chunk_overlap = 200)"
      ],
      "metadata": {
        "id": "gSwflzrooyth"
      },
      "execution_count": 4,
      "outputs": []
    },
    {
      "cell_type": "code",
      "source": [
        "texts = text_splitter.split_documents(documents)"
      ],
      "metadata": {
        "id": "784kgiulqxXk"
      },
      "execution_count": 5,
      "outputs": []
    },
    {
      "cell_type": "code",
      "source": [
        "len(texts)"
      ],
      "metadata": {
        "colab": {
          "base_uri": "https://localhost:8080/"
        },
        "id": "iZR3CzmrrA1l",
        "outputId": "347c1632-5ca8-4062-a423-9e892e360b89"
      },
      "execution_count": 6,
      "outputs": [
        {
          "output_type": "execute_result",
          "data": {
            "text/plain": [
              "233"
            ]
          },
          "metadata": {},
          "execution_count": 6
        }
      ]
    },
    {
      "cell_type": "code",
      "source": [
        "texts[:2]"
      ],
      "metadata": {
        "colab": {
          "base_uri": "https://localhost:8080/"
        },
        "id": "vplbKCZFrByB",
        "outputId": "957c85b9-5873-4057-c4bf-0266da0e2e7f"
      },
      "execution_count": 7,
      "outputs": [
        {
          "output_type": "execute_result",
          "data": {
            "text/plain": [
              "[Document(page_content='SpaceX’s super-heavy launch system Starship is poised to fundamentally reshape the space economy. The 394-foot-tall vehicle, which took to the skies for the first time last month, is designed to carry a staggering amount of mass to low Earth orbit and into deep space.\\n\\nTechCrunch+ spoke with three pure-play space VCs — Space Capital founder and managing partner Chad Anderson, Space.VC founder and general partner Jonathan Lacoste and E2MC Ventures founder Raphael Roettgen — to learn more about how they advise founders to think through Starship’s super-heavy implications.\\n\\nWhile the trio diverges on many fine points, they all agreed that founders should be thinking now about how Starship could affect their operations, for better or worse.\\n\\n“Starship has such high importance to the space sector that probably almost everyone who has a space company has to war game what that means for their business,” Roettgen said.\\n\\nChanging the face of launch …', metadata={'source': '/content/new_articles/05-07-spacex-starship-startups-future.txt'}),\n",
              " Document(page_content='Changing the face of launch …\\n\\nThe most obvious way in which Starship is likely to revolutionize the industry is by continuing the trend SpaceX firmly established with the debut of Falcon 9: further lowering the cost of launching mass to space. Starship will be capable of carrying 100 to 150 tons of stuff to orbit, a paradigm-shifting quantity that far outstrips the payload capacity of any rocket that humans have ever designed.', metadata={'source': '/content/new_articles/05-07-spacex-starship-startups-future.txt'})]"
            ]
          },
          "metadata": {},
          "execution_count": 7
        }
      ]
    },
    {
      "cell_type": "markdown",
      "source": [
        "## Create the DB"
      ],
      "metadata": {
        "id": "yZcf9rUjrkWG"
      }
    },
    {
      "cell_type": "code",
      "source": [
        "# Embed and store the texts\n",
        "# Supplying a persist_directory will store the embeddings on disk\n",
        "\n",
        "persist_directory = \"db\"\n",
        "\n",
        "# here we are using OpenAI embeddings\n",
        "embedding = OpenAIEmbeddings()\n",
        "\n",
        "vector_db = Chroma.from_documents(documents = texts,\n",
        "                                  embedding = embedding,\n",
        "                                  persist_directory = persist_directory)"
      ],
      "metadata": {
        "id": "djQMhaorrnq0"
      },
      "execution_count": 8,
      "outputs": []
    },
    {
      "cell_type": "code",
      "source": [
        "# persist db to the disk\n",
        "vector_db.persist()\n",
        "vector_db = None"
      ],
      "metadata": {
        "id": "WSmhwdS8uOif"
      },
      "execution_count": 9,
      "outputs": []
    },
    {
      "cell_type": "code",
      "source": [
        "# Now we can load the persisted database from disk, and use it as normal\n",
        "vector_db = Chroma(persist_directory = persist_directory,\n",
        "                   embedding_function = embedding)"
      ],
      "metadata": {
        "id": "ZjfOEc2Uu2PO"
      },
      "execution_count": 10,
      "outputs": []
    },
    {
      "cell_type": "code",
      "source": [],
      "metadata": {
        "id": "7mF7ygAmvnlN"
      },
      "execution_count": 10,
      "outputs": []
    },
    {
      "cell_type": "markdown",
      "source": [
        "## Make a Retriever"
      ],
      "metadata": {
        "id": "Q3XhT8XWvvHV"
      }
    },
    {
      "cell_type": "code",
      "source": [
        "retriever = vector_db.as_retriever()\n",
        "docs = retriever.get_relevant_documents(\"How much money Pando made?\")"
      ],
      "metadata": {
        "id": "GiSfi4-Ov1QN"
      },
      "execution_count": 11,
      "outputs": []
    },
    {
      "cell_type": "code",
      "source": [
        "docs"
      ],
      "metadata": {
        "colab": {
          "base_uri": "https://localhost:8080/"
        },
        "id": "0FC3uRCDxJyV",
        "outputId": "3e45e65a-9720-400a-847f-b4b3a1917d2c"
      },
      "execution_count": 14,
      "outputs": [
        {
          "output_type": "execute_result",
          "data": {
            "text/plain": [
              "[Document(page_content='Signaling that investments in the supply chain sector remain robust, Pando, a startup developing fulfillment management technologies, today announced that it raised $30 million in a Series B round, bringing its total raised to $45 million.\\n\\nIron Pillar and Uncorrelated Ventures led the round, with participation from existing investors Nexus Venture Partners, Chiratae Ventures and Next47. CEO and founder Nitin Jayakrishnan says that the new capital will be put toward expanding Pando’s global sales, marketing and delivery capabilities.\\n\\n“We will not expand into new industries or adjacent product areas,” he told TechCrunch in an email interview. “Great talent is the foundation of the business — we will continue to augment our teams at all levels of the organization. Pando is also open to exploring strategic partnerships and acquisitions with this round of funding.”', metadata={'source': '/content/new_articles/05-03-ai-powered-supply-chain-startup-pando-lands-30m-investment.txt'}),\n",
              " Document(page_content='Signaling that investments in the supply chain sector remain robust, Pando, a startup developing fulfillment management technologies, today announced that it raised $30 million in a Series B round, bringing its total raised to $45 million.\\n\\nIron Pillar and Uncorrelated Ventures led the round, with participation from existing investors Nexus Venture Partners, Chiratae Ventures and Next47. CEO and founder Nitin Jayakrishnan says that the new capital will be put toward expanding Pando’s global sales, marketing and delivery capabilities.\\n\\n“We will not expand into new industries or adjacent product areas,” he told TechCrunch in an email interview. “Great talent is the foundation of the business — we will continue to augment our teams at all levels of the organization. Pando is also open to exploring strategic partnerships and acquisitions with this round of funding.”', metadata={'source': '/content/new_articles/05-03-ai-powered-supply-chain-startup-pando-lands-30m-investment.txt'}),\n",
              " Document(page_content='The result of those major disruptions? The digital logistics market is estimated to climb to $46.5 billion by 2025, per Markets and Markets — up from $17.4 billion in 2019. Crunchbase reports that investors poured more than $7 billion in seed through growth-stage rounds globally for supply chain-focused startups from January to October 2022, nearly eclipsing 2021’s record-setting levels.\\n\\n“Pando has a strong balance sheet and profit and loss statement, with an eye on profitable growth,” Jayakrishnan said. “We’re are scaling operations in North America, Europe and India with marquee customer wins and a network of strong partners … Pando is well-positioned to ride this growth wave, and drive supply chain agility for the 2030 economy.”', metadata={'source': '/content/new_articles/05-03-ai-powered-supply-chain-startup-pando-lands-30m-investment.txt'}),\n",
              " Document(page_content='The result of those major disruptions? The digital logistics market is estimated to climb to $46.5 billion by 2025, per Markets and Markets — up from $17.4 billion in 2019. Crunchbase reports that investors poured more than $7 billion in seed through growth-stage rounds globally for supply chain-focused startups from January to October 2022, nearly eclipsing 2021’s record-setting levels.\\n\\n“Pando has a strong balance sheet and profit and loss statement, with an eye on profitable growth,” Jayakrishnan said. “We’re are scaling operations in North America, Europe and India with marquee customer wins and a network of strong partners … Pando is well-positioned to ride this growth wave, and drive supply chain agility for the 2030 economy.”', metadata={'source': '/content/new_articles/05-03-ai-powered-supply-chain-startup-pando-lands-30m-investment.txt'})]"
            ]
          },
          "metadata": {},
          "execution_count": 14
        }
      ]
    },
    {
      "cell_type": "code",
      "source": [
        "retriever = vector_db.as_retriever(search_kwargs = {\"k\":2})\n",
        "docs = retriever.get_relevant_documents(\"How much money Pando made?\")\n",
        "docs"
      ],
      "metadata": {
        "colab": {
          "base_uri": "https://localhost:8080/"
        },
        "id": "FMkviwvkxLpC",
        "outputId": "a5229a66-5ed4-48e6-a5d3-e0aa007f0eb6"
      },
      "execution_count": 15,
      "outputs": [
        {
          "output_type": "execute_result",
          "data": {
            "text/plain": [
              "[Document(page_content='Signaling that investments in the supply chain sector remain robust, Pando, a startup developing fulfillment management technologies, today announced that it raised $30 million in a Series B round, bringing its total raised to $45 million.\\n\\nIron Pillar and Uncorrelated Ventures led the round, with participation from existing investors Nexus Venture Partners, Chiratae Ventures and Next47. CEO and founder Nitin Jayakrishnan says that the new capital will be put toward expanding Pando’s global sales, marketing and delivery capabilities.\\n\\n“We will not expand into new industries or adjacent product areas,” he told TechCrunch in an email interview. “Great talent is the foundation of the business — we will continue to augment our teams at all levels of the organization. Pando is also open to exploring strategic partnerships and acquisitions with this round of funding.”', metadata={'source': '/content/new_articles/05-03-ai-powered-supply-chain-startup-pando-lands-30m-investment.txt'}),\n",
              " Document(page_content='Signaling that investments in the supply chain sector remain robust, Pando, a startup developing fulfillment management technologies, today announced that it raised $30 million in a Series B round, bringing its total raised to $45 million.\\n\\nIron Pillar and Uncorrelated Ventures led the round, with participation from existing investors Nexus Venture Partners, Chiratae Ventures and Next47. CEO and founder Nitin Jayakrishnan says that the new capital will be put toward expanding Pando’s global sales, marketing and delivery capabilities.\\n\\n“We will not expand into new industries or adjacent product areas,” he told TechCrunch in an email interview. “Great talent is the foundation of the business — we will continue to augment our teams at all levels of the organization. Pando is also open to exploring strategic partnerships and acquisitions with this round of funding.”', metadata={'source': '/content/new_articles/05-03-ai-powered-supply-chain-startup-pando-lands-30m-investment.txt'})]"
            ]
          },
          "metadata": {},
          "execution_count": 15
        }
      ]
    },
    {
      "cell_type": "code",
      "source": [
        "retriever.search_type"
      ],
      "metadata": {
        "colab": {
          "base_uri": "https://localhost:8080/",
          "height": 36
        },
        "id": "8p-wkjPCxno9",
        "outputId": "6317fe73-02d1-400f-82f0-93eeb35bad22"
      },
      "execution_count": 16,
      "outputs": [
        {
          "output_type": "execute_result",
          "data": {
            "text/plain": [
              "'similarity'"
            ],
            "application/vnd.google.colaboratory.intrinsic+json": {
              "type": "string"
            }
          },
          "metadata": {},
          "execution_count": 16
        }
      ]
    },
    {
      "cell_type": "code",
      "source": [
        "retriever.search_kwargs"
      ],
      "metadata": {
        "colab": {
          "base_uri": "https://localhost:8080/"
        },
        "id": "NiOid8nIxv4t",
        "outputId": "035d4f5a-d647-4da2-be68-8eeb0220bdda"
      },
      "execution_count": 17,
      "outputs": [
        {
          "output_type": "execute_result",
          "data": {
            "text/plain": [
              "{'k': 2}"
            ]
          },
          "metadata": {},
          "execution_count": 17
        }
      ]
    },
    {
      "cell_type": "code",
      "source": [],
      "metadata": {
        "id": "Neyj3FC0xycm"
      },
      "execution_count": 17,
      "outputs": []
    },
    {
      "cell_type": "markdown",
      "source": [
        "## Make a Chain"
      ],
      "metadata": {
        "id": "_cKJTJwdynJB"
      }
    },
    {
      "cell_type": "code",
      "source": [
        "# Create a chain to answer questions\n",
        "qa_chain = RetrievalQA.from_chain_type(\n",
        "    chain_type= \"stuff\",\n",
        "    llm = OpenAI(),\n",
        "    retriever = retriever,\n",
        "    return_source_documents = True\n",
        ")\n"
      ],
      "metadata": {
        "id": "VLni7vgzyopW"
      },
      "execution_count": 18,
      "outputs": []
    },
    {
      "cell_type": "code",
      "source": [
        "# Cite sources\n",
        "def process_llm_response(llm_response):\n",
        "  print(llm_response['result'])\n",
        "  print(\"\\n\\nSources: \")\n",
        "  for src_documents in llm_response['source_documents']:\n",
        "    print(src_documents.metadata['source'])"
      ],
      "metadata": {
        "id": "_XVe4huE2I7w"
      },
      "execution_count": 30,
      "outputs": []
    },
    {
      "cell_type": "code",
      "source": [
        "query = \"How much money Pando made?\"\n",
        "llm_response = qa_chain(query)\n",
        "process_llm_response(llm_response)"
      ],
      "metadata": {
        "colab": {
          "base_uri": "https://localhost:8080/"
        },
        "id": "xN0Ys-Kf3Gms",
        "outputId": "c08fb5ee-3a97-46ce-ed98-ac51cb13bfb6"
      },
      "execution_count": 20,
      "outputs": [
        {
          "output_type": "stream",
          "name": "stdout",
          "text": [
            " Pando made $45 million.\n",
            "\n",
            "\n",
            "Sources: \n",
            "/content/new_articles/05-03-ai-powered-supply-chain-startup-pando-lands-30m-investment.txt\n",
            "/content/new_articles/05-03-ai-powered-supply-chain-startup-pando-lands-30m-investment.txt\n"
          ]
        }
      ]
    },
    {
      "cell_type": "code",
      "source": [
        "# break it down\n",
        "query = \"What is the news about Pando?\"\n",
        "llm_response = qa_chain(query)\n",
        "# process_llm_response(llm_response)\n",
        "llm_response"
      ],
      "metadata": {
        "colab": {
          "base_uri": "https://localhost:8080/"
        },
        "id": "wn9Q-0Js4Qih",
        "outputId": "3fab6110-d1e0-493f-af66-af24ee87308d"
      },
      "execution_count": 31,
      "outputs": [
        {
          "output_type": "execute_result",
          "data": {
            "text/plain": [
              "{'query': 'What is the news about Pando?',\n",
              " 'result': ' Pando is a software-as-a-service platform offering created in 2018 by Jayakrishnan and Abhijeet Manohar. It was designed to help manufacturers, distributors, and retailers understand, optimize, and manage their global logistics operations.',\n",
              " 'source_documents': [Document(page_content='Pando was co-launched by Jayakrishnan and Abhijeet Manohar, who previously worked together at iDelivery, an India-based freight tech marketplace — and their first startup. The two saw firsthand manufacturers, distributors and retailers were struggling with legacy tech and point solutions to understand, optimize and manage their global logistics operations — or at least, that’s the story Jayakrishnan tells.\\n\\n“Supply chain leaders were trying to build their own tech and throwing people at the problem,” he said. “This caught our attention — we spent months talking to and building for enterprise users at warehouses, factories, freight yards and ports and eventually, in 2018, decided to start Pando to solve for global logistics through a software-as-a-service platform offering.”', metadata={'source': '/content/new_articles/05-03-ai-powered-supply-chain-startup-pando-lands-30m-investment.txt'}),\n",
              "  Document(page_content='Pando was co-launched by Jayakrishnan and Abhijeet Manohar, who previously worked together at iDelivery, an India-based freight tech marketplace — and their first startup. The two saw firsthand manufacturers, distributors and retailers were struggling with legacy tech and point solutions to understand, optimize and manage their global logistics operations — or at least, that’s the story Jayakrishnan tells.\\n\\n“Supply chain leaders were trying to build their own tech and throwing people at the problem,” he said. “This caught our attention — we spent months talking to and building for enterprise users at warehouses, factories, freight yards and ports and eventually, in 2018, decided to start Pando to solve for global logistics through a software-as-a-service platform offering.”', metadata={'source': '/content/new_articles/05-03-ai-powered-supply-chain-startup-pando-lands-30m-investment.txt'})]}"
            ]
          },
          "metadata": {},
          "execution_count": 31
        }
      ]
    },
    {
      "cell_type": "code",
      "source": [
        "query = \"Who led the round in Pando?\"\n",
        "llm_response = qa_chain(query)\n",
        "process_llm_response(llm_response)"
      ],
      "metadata": {
        "colab": {
          "base_uri": "https://localhost:8080/"
        },
        "id": "nfkaoeyT406f",
        "outputId": "aac12dd7-1f06-4d4f-c0de-5b30885b3ee1"
      },
      "execution_count": 32,
      "outputs": [
        {
          "output_type": "stream",
          "name": "stdout",
          "text": [
            " Iron Pillar and Uncorrelated Ventures led the round.\n",
            "\n",
            "\n",
            "Sources: \n",
            "/content/new_articles/05-03-ai-powered-supply-chain-startup-pando-lands-30m-investment.txt\n",
            "/content/new_articles/05-03-ai-powered-supply-chain-startup-pando-lands-30m-investment.txt\n"
          ]
        }
      ]
    },
    {
      "cell_type": "code",
      "source": [
        "query = \"What did databricks acquire?\"\n",
        "llm_response = qa_chain(query)\n",
        "process_llm_response(llm_response)"
      ],
      "metadata": {
        "colab": {
          "base_uri": "https://localhost:8080/"
        },
        "id": "uEdwrqb948lj",
        "outputId": "7bd526c3-292f-4a7c-f5de-de4f34cab32d"
      },
      "execution_count": 33,
      "outputs": [
        {
          "output_type": "stream",
          "name": "stdout",
          "text": [
            " Databricks acquired Okera.\n",
            "\n",
            "\n",
            "Sources: \n",
            "/content/new_articles/05-03-databricks-acquires-ai-centric-data-governance-platform-okera.txt\n",
            "/content/new_articles/05-03-databricks-acquires-ai-centric-data-governance-platform-okera.txt\n"
          ]
        }
      ]
    },
    {
      "cell_type": "code",
      "source": [
        "query = \"What is generative ai?\"\n",
        "llm_response = qa_chain(query)\n",
        "process_llm_response(llm_response)"
      ],
      "metadata": {
        "colab": {
          "base_uri": "https://localhost:8080/"
        },
        "id": "qWWHDkzH5sHc",
        "outputId": "267c436c-b4c6-44d8-fd61-d24b739dffcf"
      },
      "execution_count": 34,
      "outputs": [
        {
          "output_type": "stream",
          "name": "stdout",
          "text": [
            " Generative AI is a type of artificial intelligence that uses data to create new content, such as text, images, or music. It is used to create content that is similar to what a human would create.\n",
            "\n",
            "\n",
            "Sources: \n",
            "/content/new_articles/05-04-slack-updates-aim-to-put-ai-at-the-center-of-the-user-experience.txt\n",
            "/content/new_articles/05-04-slack-updates-aim-to-put-ai-at-the-center-of-the-user-experience.txt\n"
          ]
        }
      ]
    },
    {
      "cell_type": "code",
      "source": [
        "query = \"Who is CMA?\"\n",
        "llm_response = qa_chain(query)\n",
        "process_llm_response(llm_response)"
      ],
      "metadata": {
        "colab": {
          "base_uri": "https://localhost:8080/"
        },
        "id": "cvSy8jiV5ubW",
        "outputId": "ac4ff18e-83a9-43d0-a7d6-7c2fdf7b8f83"
      },
      "execution_count": 35,
      "outputs": [
        {
          "output_type": "stream",
          "name": "stdout",
          "text": [
            " CMA stands for the Competition and Markets Authority.\n",
            "\n",
            "\n",
            "Sources: \n",
            "/content/new_articles/05-04-cma-generative-ai-review.txt\n",
            "/content/new_articles/05-04-cma-generative-ai-review.txt\n"
          ]
        }
      ]
    },
    {
      "cell_type": "code",
      "source": [
        "qa_chain.retriever.search_type , qa_chain.retriever.vectorstore"
      ],
      "metadata": {
        "colab": {
          "base_uri": "https://localhost:8080/"
        },
        "id": "Gf4PYV4z51X_",
        "outputId": "be1c83ab-3f42-4954-b1b5-e0aeafb98fb0"
      },
      "execution_count": 36,
      "outputs": [
        {
          "output_type": "execute_result",
          "data": {
            "text/plain": [
              "('similarity', <langchain.vectorstores.chroma.Chroma at 0x7d0e109bae90>)"
            ]
          },
          "metadata": {},
          "execution_count": 36
        }
      ]
    },
    {
      "cell_type": "code",
      "source": [
        "print(qa_chain.combine_documents_chain.llm_chain.prompt.template)"
      ],
      "metadata": {
        "colab": {
          "base_uri": "https://localhost:8080/"
        },
        "id": "dS3K_t-T54J-",
        "outputId": "61978b54-0496-4d53-97e5-eb93a24aa856"
      },
      "execution_count": 37,
      "outputs": [
        {
          "output_type": "stream",
          "name": "stdout",
          "text": [
            "Use the following pieces of context to answer the question at the end. If you don't know the answer, just say that you don't know, don't try to make up an answer.\n",
            "\n",
            "{context}\n",
            "\n",
            "Question: {question}\n",
            "Helpful Answer:\n"
          ]
        }
      ]
    },
    {
      "cell_type": "code",
      "source": [],
      "metadata": {
        "id": "6U0onsnn55zs"
      },
      "execution_count": null,
      "outputs": []
    },
    {
      "cell_type": "markdown",
      "source": [
        "## Deleting the db"
      ],
      "metadata": {
        "id": "82r_YZjIrN0j"
      }
    },
    {
      "cell_type": "code",
      "source": [
        "!zip -r db.zip ./db # Zipping everything present in db directory"
      ],
      "metadata": {
        "colab": {
          "base_uri": "https://localhost:8080/"
        },
        "id": "AORzhr25rPoz",
        "outputId": "b75e30dd-b0ec-43dd-ea05-1f1214481242"
      },
      "execution_count": 39,
      "outputs": [
        {
          "output_type": "stream",
          "name": "stdout",
          "text": [
            "updating: db/ (stored 0%)\n",
            "updating: db/2b98eed9-7219-4a0d-b52e-be05e11b22eb/ (stored 0%)\n",
            "updating: db/2b98eed9-7219-4a0d-b52e-be05e11b22eb/header.bin (deflated 61%)\n",
            "updating: db/2b98eed9-7219-4a0d-b52e-be05e11b22eb/link_lists.bin (stored 0%)\n",
            "updating: db/2b98eed9-7219-4a0d-b52e-be05e11b22eb/length.bin (deflated 99%)\n",
            "updating: db/2b98eed9-7219-4a0d-b52e-be05e11b22eb/data_level0.bin (deflated 100%)\n",
            "updating: db/chroma.sqlite3 (deflated 39%)\n"
          ]
        }
      ]
    },
    {
      "cell_type": "code",
      "source": [
        "\n",
        "# To cleanup, you can delete the collection\n",
        "vector_db.delete_collection()\n",
        "vector_db.persist()\n",
        "\n"
      ],
      "metadata": {
        "id": "LEQmZ-Qirs_s"
      },
      "execution_count": 41,
      "outputs": []
    },
    {
      "cell_type": "code",
      "source": [
        "# delete the directory\n",
        "!rm -rf db/"
      ],
      "metadata": {
        "id": "b0yQ0o77sGF3"
      },
      "execution_count": 42,
      "outputs": []
    },
    {
      "cell_type": "code",
      "source": [],
      "metadata": {
        "id": "SrzNY0w7sNKk"
      },
      "execution_count": null,
      "outputs": []
    },
    {
      "cell_type": "markdown",
      "source": [
        "## Loading db again\n",
        "\n",
        "restart the runtime so everything is cleaned from the memory"
      ],
      "metadata": {
        "id": "g-GdOLOdsQ0u"
      }
    },
    {
      "cell_type": "code",
      "source": [
        "!unzip db.zip # unzipping the zipped db"
      ],
      "metadata": {
        "colab": {
          "base_uri": "https://localhost:8080/"
        },
        "id": "OKGsMOUVsaBZ",
        "outputId": "088219eb-1a73-485e-da93-adb9a7fca5df"
      },
      "execution_count": 1,
      "outputs": [
        {
          "output_type": "stream",
          "name": "stdout",
          "text": [
            "Archive:  db.zip\n",
            "   creating: db/\n",
            "   creating: db/2b98eed9-7219-4a0d-b52e-be05e11b22eb/\n",
            "  inflating: db/2b98eed9-7219-4a0d-b52e-be05e11b22eb/header.bin  \n",
            " extracting: db/2b98eed9-7219-4a0d-b52e-be05e11b22eb/link_lists.bin  \n",
            "  inflating: db/2b98eed9-7219-4a0d-b52e-be05e11b22eb/length.bin  \n",
            "  inflating: db/2b98eed9-7219-4a0d-b52e-be05e11b22eb/data_level0.bin  \n",
            "  inflating: db/chroma.sqlite3       \n"
          ]
        }
      ]
    },
    {
      "cell_type": "code",
      "source": [
        "  import os\n",
        "  import getpass\n",
        "\n",
        "  os.environ['OPENAI_API_KEY'] = getpass.getpass()"
      ],
      "metadata": {
        "colab": {
          "base_uri": "https://localhost:8080/"
        },
        "id": "lpmEaqG5s0Yu",
        "outputId": "5d7b66c7-a2a8-4ce6-bc6b-1b13658915ce"
      },
      "execution_count": 2,
      "outputs": [
        {
          "name": "stdout",
          "output_type": "stream",
          "text": [
            "··········\n"
          ]
        }
      ]
    },
    {
      "cell_type": "code",
      "source": [
        "from langchain import OpenAI\n",
        "from langchain.chains import RetrievalQA\n",
        "from langchain.vectorstores import Chroma\n",
        "from langchain.chat_models import ChatOpenAI\n",
        "from langchain.embeddings import OpenAIEmbeddings"
      ],
      "metadata": {
        "id": "qqJaMvgstAvH"
      },
      "execution_count": 3,
      "outputs": []
    },
    {
      "cell_type": "code",
      "source": [
        "persist_directory = \"db\"\n",
        "embedding = OpenAIEmbeddings()\n",
        "vector_db_2 = Chroma(\n",
        "    persist_directory = persist_directory,\n",
        "    embedding_function = embedding,\n",
        ")"
      ],
      "metadata": {
        "id": "ielz0BPPtn7r"
      },
      "execution_count": 4,
      "outputs": []
    },
    {
      "cell_type": "code",
      "source": [
        "retriever = vector_db_2.as_retriever(search_kwargs = {'k':2})"
      ],
      "metadata": {
        "id": "MvLf8h1TunB9"
      },
      "execution_count": 5,
      "outputs": []
    },
    {
      "cell_type": "code",
      "source": [
        "# Setting up OpenAI chat llm\n",
        "llm = ChatOpenAI(\n",
        "    model_name = \"gpt-3.5-turbo\",\n",
        "    temperature = 0,\n",
        ")"
      ],
      "metadata": {
        "id": "PK8kyyKxu4nB"
      },
      "execution_count": 6,
      "outputs": []
    },
    {
      "cell_type": "code",
      "source": [
        "# Create the chain to answer question\n",
        "\n",
        "chain = RetrievalQA.from_chain_type(\n",
        "    llm = llm,\n",
        "    chain_type = \"stuff\",\n",
        "    retriever = retriever,\n",
        "    return_source_documents = True\n",
        ")"
      ],
      "metadata": {
        "id": "_V91cIJ_vRCF"
      },
      "execution_count": 7,
      "outputs": []
    },
    {
      "cell_type": "code",
      "source": [
        "def process_llm_response(llm_response):\n",
        "  print(llm_response['result'])\n",
        "  print(\"\\nSource Documents: \")\n",
        "  for src_docs in llm_response['source_documents']:\n",
        "    print(src_docs.metadata['source'])"
      ],
      "metadata": {
        "id": "EAraCrM1w6Lr"
      },
      "execution_count": 10,
      "outputs": []
    },
    {
      "cell_type": "code",
      "source": [
        "query = \"How much money did Pando raise?\"\n",
        "llm_response = chain(query)\n",
        "process_llm_response(llm_response)"
      ],
      "metadata": {
        "colab": {
          "base_uri": "https://localhost:8080/"
        },
        "id": "HmccyEVWxvRB",
        "outputId": "2ea9193b-ee36-4c83-b6eb-79ed7405db15"
      },
      "execution_count": 12,
      "outputs": [
        {
          "output_type": "stream",
          "name": "stdout",
          "text": [
            "Pando raised $30 million in its Series B round, bringing its total raised to $45 million.\n",
            "\n",
            "Source Documents: \n",
            "/content/new_articles/05-03-ai-powered-supply-chain-startup-pando-lands-30m-investment.txt\n",
            "/content/new_articles/05-03-ai-powered-supply-chain-startup-pando-lands-30m-investment.txt\n"
          ]
        }
      ]
    },
    {
      "cell_type": "code",
      "source": [],
      "metadata": {
        "id": "T4tQctezx2Sa"
      },
      "execution_count": null,
      "outputs": []
    },
    {
      "cell_type": "markdown",
      "source": [
        "## Chat Prompt"
      ],
      "metadata": {
        "id": "e0zEtMP7x9GJ"
      }
    },
    {
      "cell_type": "code",
      "source": [
        "print(chain.combine_documents_chain.llm_chain.prompt.messages[0].prompt.template)"
      ],
      "metadata": {
        "colab": {
          "base_uri": "https://localhost:8080/"
        },
        "id": "Qjp1FbGOx_8r",
        "outputId": "5e54b1b7-1616-4336-d735-7aadc578e6d9"
      },
      "execution_count": 13,
      "outputs": [
        {
          "output_type": "stream",
          "name": "stdout",
          "text": [
            "Use the following pieces of context to answer the user's question. \n",
            "If you don't know the answer, just say that you don't know, don't try to make up an answer.\n",
            "----------------\n",
            "{context}\n"
          ]
        }
      ]
    },
    {
      "cell_type": "code",
      "source": [
        "print(chain.combine_documents_chain.llm_chain.prompt.messages[1].prompt.template)"
      ],
      "metadata": {
        "colab": {
          "base_uri": "https://localhost:8080/"
        },
        "id": "CtRg-0H2yU-A",
        "outputId": "845f0603-9df9-4f1c-e473-1f0ae8921548"
      },
      "execution_count": 14,
      "outputs": [
        {
          "output_type": "stream",
          "name": "stdout",
          "text": [
            "{question}\n"
          ]
        }
      ]
    },
    {
      "cell_type": "code",
      "source": [
        "print(chain.combine_documents_chain.llm_chain.prompt.messages[1].prompt.template)"
      ],
      "metadata": {
        "colab": {
          "base_uri": "https://localhost:8080/"
        },
        "id": "3rweKpE3yeRV",
        "outputId": "4e0edc40-432a-4dde-f5cd-b41865d99f07"
      },
      "execution_count": 19,
      "outputs": [
        {
          "output_type": "stream",
          "name": "stdout",
          "text": [
            "{question}\n"
          ]
        }
      ]
    },
    {
      "cell_type": "code",
      "source": [],
      "metadata": {
        "id": "RxGGsLt7yhSd"
      },
      "execution_count": null,
      "outputs": []
    }
  ]
}